{
 "cells": [
  {
   "cell_type": "code",
   "execution_count": 131,
   "metadata": {},
   "outputs": [],
   "source": [
    "import csv\n",
    "import time\n",
    "import plotly.express as px\n",
    "import plotly.graph_objects as go\n",
    "from IPython.display import display, clear_output\n",
    "\n"
   ]
  },
  {
   "cell_type": "code",
   "execution_count": 132,
   "metadata": {},
   "outputs": [],
   "source": [
    "def extract_last_element(csv_file_path=\"results.csv\"):\n",
    "    with open(csv_file_path, 'r') as csv_file:\n",
    "        reader = csv.reader(csv_file)\n",
    "        for row in reader:\n",
    "            if len(row) >= 2:\n",
    "                last_element = row[1:6]  # 2nd column (index 1)\n",
    "        return last_element"
   ]
  },
  {
   "cell_type": "code",
   "execution_count": 133,
   "metadata": {},
   "outputs": [],
   "source": [
    "\n",
    "def plotly_graphic(co2,temperature,humidity,timestamp):\n",
    "    # Create a figure with plotly.graph_objects\n",
    "    fig = go.Figure()\n",
    "\n",
    "    # Add scatter traces for each data series\n",
    "    \n",
    "    fig.add_trace(go.Scatter(x=timestamp, y=temperature, mode='markers+lines', name='Temperature', marker=dict(color='green')))\n",
    "    fig.add_trace(go.Scatter(x=timestamp, y=humidity, mode='markers+lines', name='Humidity', marker=dict(color='purple')))\n",
    "    fig.add_trace(go.Scatter(x=timestamp, y=co2, mode='markers+lines', name='CO2', marker=dict(color='blue')))\n",
    "\n",
    "    # Update layout options\n",
    "    fig.update_layout(\n",
    "        title='Sensor Data',\n",
    "        xaxis=dict(title='Time'),\n",
    "        yaxis=dict(title='Value'),\n",
    "    )\n",
    "\n",
    "     # Show the plot\n",
    "    # Show the plot\n",
    "    fig.update()\n",
    "    display(fig)\n",
    "    time.sleep(0.5)\n",
    "    clear_output(wait=True)\n",
    "    "
   ]
  },
  {
   "cell_type": "code",
   "execution_count": 153,
   "metadata": {},
   "outputs": [],
   "source": [
    "def extract_item(last_element,id_ubi,co2,temperature,humidity,timestamp):\n",
    "    for value in last_element:\n",
    "\n",
    "        id_ubi.append(last_element[0])\n",
    "\n",
    "        co2_float = float(last_element[1])\n",
    "        co2.append(co2_float)\n",
    "\n",
    "        temperature_float = float(last_element[2])\n",
    "        temperature.append(temperature_float)\n",
    "\n",
    "        humidity_float = float(last_element[3])\n",
    "        humidity.append(float(humidity_float))\n",
    "\n",
    "        timestamp.append(last_element[4])\n",
    "        print(f\"Valores: {last_element[0]}, {last_element[1]}, {last_element[2]}, {last_element[3]}, {last_element[4]}\")\n",
    "        print(f\"Tipos de Datos: {type(last_element[0])}, {type(co2_float)}, {type(temperature_float)}, {type(humidity_float)}, {type(last_element[4])}\")\n",
    "    \n",
    "        #plotly_graphic(co2,temperature,humidity,timestamp)\n",
    "\n"
   ]
  },
  {
   "cell_type": "code",
   "execution_count": 154,
   "metadata": {},
   "outputs": [
    {
     "name": "stdout",
     "output_type": "stream",
     "text": [
      "Valores: 44, 109.0, 28.7, 60.6, 25.24\n",
      "Tipos de Datos: <class 'str'>, <class 'float'>, <class 'str'>, <class 'str'>, <class 'str'>\n",
      "Valores: 44, 109.0, 28.7, 60.6, 25.24\n",
      "Tipos de Datos: <class 'str'>, <class 'float'>, <class 'str'>, <class 'str'>, <class 'str'>\n",
      "Valores: 44, 109.0, 28.7, 60.6, 25.24\n",
      "Tipos de Datos: <class 'str'>, <class 'float'>, <class 'str'>, <class 'str'>, <class 'str'>\n",
      "Valores: 44, 109.0, 28.7, 60.6, 25.24\n",
      "Tipos de Datos: <class 'str'>, <class 'float'>, <class 'str'>, <class 'str'>, <class 'str'>\n",
      "Valores: 44, 109.0, 28.7, 60.6, 25.24\n",
      "Tipos de Datos: <class 'str'>, <class 'float'>, <class 'str'>, <class 'str'>, <class 'str'>\n"
     ]
    }
   ],
   "source": [
    "elements=[]\n",
    "id_ubi=[]\n",
    "co2=[]\n",
    "Temperature=[]\n",
    "Humidity=[]\n",
    "Timestamp=[]\n",
    "\n",
    "time.sleep(2)\n",
    "start_time = time.time()\n",
    "n=2\n",
    "\n",
    "last_element=extract_last_element()\n",
    "extract_item(last_element,id_ubi,co2,Temperature,Humidity,Timestamp)\n",
    "\n",
    "# for i in range(30):\n",
    "#     time.sleep(1)\n",
    "#     last_element=extract_last_element()\n",
    "#     extract_item(last_element,id_ubi,co2,Temperature,Humidity,Timestamp)\n",
    "    \n",
    "    \n",
    "\n"
   ]
  },
  {
   "cell_type": "code",
   "execution_count": null,
   "metadata": {},
   "outputs": [],
   "source": []
  }
 ],
 "metadata": {
  "kernelspec": {
   "display_name": "Python 3",
   "language": "python",
   "name": "python3"
  },
  "language_info": {
   "codemirror_mode": {
    "name": "ipython",
    "version": 3
   },
   "file_extension": ".py",
   "mimetype": "text/x-python",
   "name": "python",
   "nbconvert_exporter": "python",
   "pygments_lexer": "ipython3",
   "version": "3.10.4"
  },
  "orig_nbformat": 4
 },
 "nbformat": 4,
 "nbformat_minor": 2
}
